{
  "nbformat": 4,
  "nbformat_minor": 0,
  "metadata": {
    "colab": {
      "name": "Week_3_Decision_Trees_Random_Forests_SVMs.ipynb",
      "provenance": [],
      "collapsed_sections": [],
      "authorship_tag": "ABX9TyPGjjF4EAIQC/OHjxRwCF+3",
      "include_colab_link": true
    },
    "kernelspec": {
      "name": "python3",
      "display_name": "Python 3"
    },
    "language_info": {
      "name": "python"
    }
  },
  "cells": [
    {
      "cell_type": "markdown",
      "metadata": {
        "id": "view-in-github",
        "colab_type": "text"
      },
      "source": [
        "<a href=\"https://colab.research.google.com/github/tbeucler/2022_ML_Earth_Env_Sci/blob/main/Lab_Notebooks/Week_3_Decision_Trees_Random_Forests_SVMs.ipynb\" target=\"_parent\"><img src=\"https://colab.research.google.com/assets/colab-badge.svg\" alt=\"Open In Colab\"/></a>"
      ]
    },
    {
      "cell_type": "markdown",
      "source": [
        "# **Welcome to the third lab: Support vector machines, Decision trees, Random forests & Environmental risk analysis**"
      ],
      "metadata": {
        "id": "jobt71avnVPS"
      }
    },
    {
      "cell_type": "markdown",
      "source": [
        "For this week's lab, the learning objectives are:\n",
        "\n",
        "1.    Training and benchmarking different types of support vector machines for classification and regression purposes,\n",
        "\n",
        "2.    "
      ],
      "metadata": {
        "id": "5NmnSWj5oAAT"
      }
    },
    {
      "cell_type": "markdown",
      "source": [
        "Today's tutorial:\n",
        "\n",
        "1.    Adapts Géron et al.'s Jupyter notebook exercises for chapters [5](https://github.com/ageron/handson-ml2/blob/master/05_support_vector_machines.ipynb), [6](https://github.com/ageron/handson-ml2/blob/master/06_decision_trees.ipynb), and [7](https://github.com/ageron/handson-ml2/blob/master/07_ensemble_learning_and_random_forests.ipynb) [(License)](https://github.com/ageron/handson-ml2/blob/master/LICENSE) of his book [\"Hands-On Machine Learning with Scikit-Learn, Keras, and TensorFlow, 2nd Edition\"](https://www.oreilly.com/library/view/hands-on-machine-learning/9781492032632/),\n",
        "\n",
        "2.    TODO"
      ],
      "metadata": {
        "id": "ZwIvLOstucNV"
      }
    },
    {
      "cell_type": "markdown",
      "source": [
        "If you are struggling with some of the exercises, do not hesitate to:\n",
        "\n",
        "\n",
        "*   Use a direct Internet search, or [stackoverflow](https://stackoverflow.com/)\n",
        "*   Ask your neighbor(s), the teacher, or the TA for help\n",
        "*   Debug your program, e.g. by following [this tutorial](https://swcarpentry.github.io/python-novice-inflammation/11-debugging/index.html)\n",
        "*   Use assertions, e.g. by following [this tutorial](https://swcarpentry.github.io/python-novice-inflammation/10-defensive/index.html)\n",
        "\n"
      ],
      "metadata": {
        "id": "5kqRUzTLpca0"
      }
    },
    {
      "cell_type": "markdown",
      "source": [
        "# Part I: Practice on Simple Datasets"
      ],
      "metadata": {
        "id": "FOjl7quRnlRj"
      }
    },
    {
      "cell_type": "markdown",
      "source": [
        "## 1. Support Vector Machines"
      ],
      "metadata": {
        "id": "dU0SS519pc6s"
      }
    },
    {
      "cell_type": "markdown",
      "source": [
        "\n",
        "\n",
        "---\n",
        "\n",
        "Go to notebook [`S3_1_SVM`](https://colab.research.google.com/github/tbeucler/2022_ML_Earth_Env_Sci/blob/main/Lab_Notebooks/S3_1_SVM.ipynb)\n",
        "\n",
        "---\n",
        "\n",
        "\n"
      ],
      "metadata": {
        "id": "N5GdJyP9tlez"
      }
    },
    {
      "cell_type": "markdown",
      "source": [
        "## 2. Decision Trees"
      ],
      "metadata": {
        "id": "XPdLSJATt4Vj"
      }
    },
    {
      "cell_type": "markdown",
      "source": [
        "\n",
        "\n",
        "---\n",
        "\n",
        "Go to notebook [`S3_2_Decision_Trees`](https://colab.research.google.com/github/tbeucler/2022_ML_Earth_Env_Sci/blob/main/Lab_Notebooks/S3_2_Decision_Trees.ipynb)\n",
        "\n",
        "---\n",
        "\n",
        "\n"
      ],
      "metadata": {
        "id": "HLqzQcoLC1Bd"
      }
    },
    {
      "cell_type": "markdown",
      "source": [
        "## 3. Ensemble Learning and Random Forests\n",
        "\n",
        "\n",
        "\n",
        "---\n",
        "\n",
        "Go to notebook [`S3_3_Ensemble_Learning_Random_Forests`](https://colab.research.google.com/github/tbeucler/2022_ML_Earth_Env_Sci/blob/main/Lab_Notebooks/S3_3_Ensemble_Learning_Random_Forests.ipynb)\n",
        "\n",
        "---\n",
        "\n",
        "\n"
      ],
      "metadata": {
        "id": "lK5ecWlkDYB6"
      }
    },
    {
      "cell_type": "markdown",
      "source": [
        "# Part II: TODO"
      ],
      "metadata": {
        "id": "Fl4468OlnydI"
      }
    },
    {
      "cell_type": "code",
      "source": [
        ""
      ],
      "metadata": {
        "id": "dOsZNZztn068"
      },
      "execution_count": null,
      "outputs": []
    }
  ]
}