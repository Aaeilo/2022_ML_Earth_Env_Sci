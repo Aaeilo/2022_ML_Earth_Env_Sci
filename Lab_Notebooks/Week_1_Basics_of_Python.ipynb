{
  "nbformat": 4,
  "nbformat_minor": 0,
  "metadata": {
    "colab": {
      "name": "Week_1_Basics_of_Python.ipynb",
      "provenance": [],
      "collapsed_sections": [],
      "authorship_tag": "ABX9TyNqKtFy+O2ofdL2yk06dpgS",
      "include_colab_link": true
    },
    "kernelspec": {
      "name": "python3",
      "display_name": "Python 3"
    },
    "language_info": {
      "name": "python"
    }
  },
  "cells": [
    {
      "cell_type": "markdown",
      "metadata": {
        "id": "view-in-github",
        "colab_type": "text"
      },
      "source": [
        "<a href=\"https://colab.research.google.com/github/tbeucler/2022_ML_Earth_Env_Sci/blob/main/Lab_Notebooks/Week_1_Basics_of_Python.ipynb\" target=\"_parent\"><img src=\"https://colab.research.google.com/assets/colab-badge.svg\" alt=\"Open In Colab\"/></a>"
      ]
    },
    {
      "cell_type": "markdown",
      "source": [
        "# Welcome to \"Machine Learning for Earth and Environmental Sciences\"\n",
        "\n",
        "For this week's lab, our goal is to (re)familiarize ourselves with the basics of Python, focusing on libraries that are especially convenient for manipulating geoscientific datasets, implementing machine learning algorithms, and visualizing results. Our main learning objectives today are to get (re)acquainted with several Python libraries:\n",
        "\n",
        "1.   [Numpy](https://numpy.org/doc/stable/index.html) for scientific computing \n",
        "2.   [Matplotlib](https://matplotlib.org/) for visualization\n",
        "3.   [Pandas](https://pandas.pydata.org/) for manipulating tabular data\n",
        "4.   [Xarray](https://docs.xarray.dev/en/stable/) for manipulating multidimensional gridded data\n",
        "5.   [Cartopy](https://scitools.org.uk/cartopy/docs/latest/) for making maps\n",
        "6.   [Seaborn](https://seaborn.pydata.org/) for statistical graphics\n",
        "\n",
        "Today's tutorial relies heavily on excellent online resources, in particular:\n",
        "\n",
        "*   [An Introduction to Earth and Environmental Data Science](https://earth-env-data-science.github.io/intro.html) by Ryan Abernathey and with contributions from Kerry Key and Tim Crone [(License)](https://creativecommons.org/licenses/by-sa/4.0/)\n",
        "*   [Machine Learning for Climate and Energy](https://energy4climate.pages.in2p3.fr/public/education/machine_learning_for_climate_and_energy/chapters/frontmatter.html) by Bruno Deremble and Alexis Tantet [(License)](https://creativecommons.org/licenses/by-sa/4.0/) \n",
        "*   [Programming with Python](https://swcarpentry.github.io/python-novice-inflammation/) by © Software Carpentry and © Data Carpentry [(License)](https://creativecommons.org/licenses/by/4.0/)"
      ],
      "metadata": {
        "id": "T6AMaRTlK4tV"
      }
    },
    {
      "cell_type": "markdown",
      "source": [
        "# First, let's start with some Python fundamentals\n",
        "\n",
        "*   This notebook assumes that you are using Python 3, whose documentation can be found [at this link](https://docs.python.org/3/).\n",
        "*   Python has a built-in [interpreteter](https://en.wikipedia.org/wiki/Interpreter_(computing)), which means that it will directly execute the instructions you give without requiring compilation.\n",
        "*   Python is so widely used that you can usually find answers to your question via a direct Internet search, often on [stackoverflow](https://stackoverflow.com/)."
      ],
      "metadata": {
        "id": "R4LjmDWszf8p"
      }
    },
    {
      "cell_type": "code",
      "source": [
        "import os # Import operation system library \n",
        "# to resolve the current directory's path\n",
        "dir_path = os.path.abspath(os.getcwd()) # Current directory's path"
      ],
      "metadata": {
        "id": "ETPSHHWu1ocK"
      },
      "execution_count": 9,
      "outputs": []
    },
    {
      "cell_type": "code",
      "source": [
        "S1_path = dir_path+'/S1_1_Python fundamentals.ipynb'"
      ],
      "metadata": {
        "id": "iw1ue-Vv04V_"
      },
      "execution_count": 10,
      "outputs": []
    },
    {
      "cell_type": "code",
      "source": [
        "print(S1_path)"
      ],
      "metadata": {
        "colab": {
          "base_uri": "https://localhost:8080/"
        },
        "id": "eAynHU0I15gv",
        "outputId": "4d47d23c-e070-4076-8140-35cde3713a78"
      },
      "execution_count": 12,
      "outputs": [
        {
          "output_type": "stream",
          "name": "stdout",
          "text": [
            "/content/S1_1_Python fundamentals.ipynb\n"
          ]
        }
      ]
    },
    {
      "cell_type": "markdown",
      "source": [
        "[Section 1: Python fundamentals]({{S1_path}})"
      ],
      "metadata": {
        "id": "XVnDy1fgzT-P"
      }
    },
    {
      "cell_type": "markdown",
      "source": [
        "Congratulations!! You've reached the end of week 1's notebook. If you're done early, consider:\n",
        "\n",
        "\n",
        "*   Trying out the notebook's bonus exercises\n",
        "*   Helping students around you if applicable\n",
        "*   Giving feedback on how to improve this notebook (typos, hints, exercises that may be improved/removed/added, etc.) by messaging the teacher and TA(s) on Moodle\n",
        "*   Formulating your final project for this course. \n",
        "\n",
        "**Final Project**\n",
        "The final project’s goal is to answer a well-defined scientific question by applying one of the ML algorithms introduced in class on an environmental dataset of your choice (e.g., related to your Masters thesis or your PhD research). \n",
        "\n",
        "*   Can you think of a large environmental dataset linked to a scientific question you are passionate about?\n",
        "*   In the affirmative, how could you format the dataset to facilitate its manipulation in Python?\n",
        "*   In the negative, consider browsing the [list of benchmark datasets](http://mldata.pangeo.io/index.html) maintained by [Pangeo](https://pangeo.io/)\n",
        "\n",
        "\n",
        "\n",
        "\n",
        "\n",
        "\n"
      ],
      "metadata": {
        "id": "3KfgAq_XuKbz"
      }
    }
  ]
}